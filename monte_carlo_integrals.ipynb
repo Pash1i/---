{
 "cells": [
  {
   "cell_type": "code",
   "execution_count": 140,
   "id": "6b6917bd",
   "metadata": {},
   "outputs": [],
   "source": [
    "import matplotlib.pyplot as plt\n",
    "import numpy as np\n",
    "import random\n",
    "from tqdm import tqdm"
   ]
  },
  {
   "cell_type": "code",
   "execution_count": 203,
   "id": "5a5e9061",
   "metadata": {},
   "outputs": [],
   "source": [
    "x = np.linspace(-5,5,1000)\n",
    "y = np.exp(-x*x)"
   ]
  },
  {
   "cell_type": "code",
   "execution_count": 208,
   "id": "216dd779",
   "metadata": {},
   "outputs": [
    {
     "data": {
      "image/png": "[encoded data removed]",
      "text/plain": [
       "<Figure size 432x288 with 1 Axes>"
      ]
     },
     "metadata": {
      "needs_background": "light"
     },
     "output_type": "display_data"
    }
   ],
   "source": [
    "fig, ax = plt.subplots()\n",
    "\n",
    "ax.plot(x, y, linewidth=2.0)\n",
    "\n",
    "ax.fill_between(x,y,0, where = ((x>-4)&(x <4)), color = '#AFEEEE')\n",
    "ax.set(xlim=(-4, 4), xticks=np.arange(-4, 5),\n",
    "       ylim=(0, 1.2), yticks=[0,0.2,0.4,0.6,0.8,1,1.2])\n",
    "\n",
    "plt.show()"
   ]
  },
  {
   "cell_type": "markdown",
   "id": "47027fd1",
   "metadata": {},
   "source": [
    "Допустим, мы хотим посчитать интеграл $\\int\\limits_{-4}^4e^{-x^2}dx$. Воспользуемся методом Монте-Карло представим искомый интеграл в виде: \n",
    "$$\n",
    "(4-(-4))\\int\\limits_{-4}^4 e^{-x^2} \\frac{1}{4-(-4)}dx\\\\\n",
    "8\\int\\limits_{-4}^4 e^{-x^2} \\frac{1}{8}dx\n",
    "$$\n",
    "\n",
    "А это формула матожидания функции $e^{-X^2}$ от равномерно распределенной на отрезке $[-4,4]$ случайной величины $X$.\n",
    "\n",
    "Приблизительно вычислим интеграл, сгенерировав некторое количество случайных чисел (равномерно распределенных) от -4 до 4. Согласно Закону Больших Чисел\n",
    "$$\n",
    "\\forall\\ \\epsilon>0:\\ \\Pr(|\\frac{1}{n}(X_1+\\ldots+X_n)-\\frac{1}{n}(E[X_1]+\\ldots+E[X_n])|\\geqslant \\epsilon)\\underset{n\\rightarrow \\infty}{\\longrightarrow} 0\n",
    "$$\n",
    "\n",
    "У нас $X_i$ - одинаково распределенные на $[-4,4]$ независимые величины, поэтому \n",
    "$$\n",
    "\\bar X\\underset{n\\rightarrow \\infty}\\longrightarrow E [X_i]\n",
    "$$\n",
    "\n",
    "Отсюда\n",
    "$$\n",
    "\\frac{1}{n}\\sum_{i=1}^n e^{-X_i^2}\\longrightarrow E[e^{-X_i^2}]\n",
    "$$\n",
    "Главное, не забыть умножить полученный результат на 8, т.к. $I\\approx8E[e^{-X_i^2}]$\n",
    "С помощью генератора случайный чисел, нагенерируем наблюдений."
   ]
  },
  {
   "cell_type": "markdown",
   "id": "d61e6695",
   "metadata": {},
   "source": [
    "Для начала возьмем $n=10$"
   ]
  },
  {
   "cell_type": "code",
   "execution_count": 129,
   "id": "99f57575",
   "metadata": {},
   "outputs": [
    {
     "data": {
      "text/plain": [
       "3.303096980823477"
      ]
     },
     "execution_count": 129,
     "metadata": {},
     "output_type": "execute_result"
    }
   ],
   "source": [
    "n = 10\n",
    "data = np.array([random.uniform(-4,4) for i in range(n)])\n",
    "func = np.exp(-data**2)\n",
    "Integral = 8*sum(func)/n\n",
    "Integral"
   ]
  },
  {
   "cell_type": "markdown",
   "id": "477f7c4a",
   "metadata": {},
   "source": [
    "Теперь возьмем $n=50$"
   ]
  },
  {
   "cell_type": "code",
   "execution_count": 130,
   "id": "39615c22",
   "metadata": {},
   "outputs": [
    {
     "data": {
      "text/plain": [
       "2.206264676667942"
      ]
     },
     "execution_count": 130,
     "metadata": {},
     "output_type": "execute_result"
    }
   ],
   "source": [
    "n = 50\n",
    "data = np.array([random.uniform(-4,4) for i in range(n)])\n",
    "func = np.exp(-data**2)\n",
    "Integral = 8*sum(func)/n\n",
    "Integral"
   ]
  },
  {
   "cell_type": "markdown",
   "id": "669a1ac9",
   "metadata": {},
   "source": [
    "$n=100$"
   ]
  },
  {
   "cell_type": "code",
   "execution_count": 131,
   "id": "15f820a0",
   "metadata": {},
   "outputs": [
    {
     "data": {
      "text/plain": [
       "1.5070209178831593"
      ]
     },
     "execution_count": 131,
     "metadata": {},
     "output_type": "execute_result"
    }
   ],
   "source": [
    "n = 100\n",
    "data = np.array([random.uniform(-4,4) for i in range(n)])\n",
    "func = np.exp(-data**2)\n",
    "Integral = 8*sum(func)/n\n",
    "Integral"
   ]
  },
  {
   "cell_type": "markdown",
   "id": "a3feeda9",
   "metadata": {},
   "source": [
    "$n = 1000$"
   ]
  },
  {
   "cell_type": "code",
   "execution_count": 132,
   "id": "a314445f",
   "metadata": {},
   "outputs": [
    {
     "data": {
      "text/plain": [
       "1.7407429245049386"
      ]
     },
     "execution_count": 132,
     "metadata": {},
     "output_type": "execute_result"
    }
   ],
   "source": [
    "n = 1000\n",
    "data = np.array([random.uniform(-4,4) for i in range(n)])\n",
    "func = np.exp(-data**2)\n",
    "Integral = 8*sum(func)/n\n",
    "Integral"
   ]
  },
  {
   "cell_type": "markdown",
   "id": "f7012a8b",
   "metadata": {},
   "source": [
    "$n=10000$"
   ]
  },
  {
   "cell_type": "code",
   "execution_count": 133,
   "id": "37839e50",
   "metadata": {},
   "outputs": [
    {
     "data": {
      "text/plain": [
       "1.7575870406745084"
      ]
     },
     "execution_count": 133,
     "metadata": {},
     "output_type": "execute_result"
    }
   ],
   "source": [
    "n = 10000\n",
    "data = np.array([random.uniform(-4,4) for i in range(n)])\n",
    "func = np.exp(-data**2)\n",
    "Integral = 8*sum(func)/n\n",
    "Integral"
   ]
  },
  {
   "cell_type": "markdown",
   "id": "c368a1dd",
   "metadata": {},
   "source": [
    "$n=100000$"
   ]
  },
  {
   "cell_type": "code",
   "execution_count": 134,
   "id": "af4101aa",
   "metadata": {},
   "outputs": [
    {
     "data": {
      "text/plain": [
       "1.7705937033388892"
      ]
     },
     "execution_count": 134,
     "metadata": {},
     "output_type": "execute_result"
    }
   ],
   "source": [
    "n = 100000\n",
    "data = np.array([random.uniform(-4,4) for i in range(n)])\n",
    "func = np.exp(-data**2)\n",
    "Integral = 8*sum(func)/n\n",
    "Integral"
   ]
  },
  {
   "cell_type": "markdown",
   "id": "21d05e6b",
   "metadata": {},
   "source": [
    "$n = 1000000$"
   ]
  },
  {
   "cell_type": "code",
   "execution_count": 135,
   "id": "dd383bf2",
   "metadata": {},
   "outputs": [
    {
     "data": {
      "text/plain": [
       "1.772394933084138"
      ]
     },
     "execution_count": 135,
     "metadata": {},
     "output_type": "execute_result"
    }
   ],
   "source": [
    "n = 1000000\n",
    "data = np.array([random.uniform(-4,4) for i in range(n)])\n",
    "func = np.exp(-data**2)\n",
    "Integral = 8*sum(func)/n\n",
    "Integral"
   ]
  },
  {
   "cell_type": "code",
   "execution_count": 147,
   "id": "f83a0cd3",
   "metadata": {},
   "outputs": [],
   "source": [
    "n = 1000000000\n",
    "s = 0\n",
    "for i in range(n):\n",
    "    num = random.uniform(-4,4)\n",
    "    s+= np.exp(-pow(num,2))\n",
    "Integral = 8*s/n"
   ]
  },
  {
   "cell_type": "code",
   "execution_count": 148,
   "id": "63217abc",
   "metadata": {},
   "outputs": [
    {
     "data": {
      "text/plain": [
       "1.7725242181245766"
      ]
     },
     "execution_count": 148,
     "metadata": {},
     "output_type": "execute_result"
    }
   ],
   "source": [
    "Integral"
   ]
  },
  {
   "cell_type": "markdown",
   "id": "e39ec53b",
   "metadata": {},
   "source": [
    "Теперь попробуем решить более прикладную задачу: посчитаем вероятность того, что случайная величина, имеющая стандартное нормальное распределение примет значение от -2 до 2, т.е. необходимо приблизить значение следующего интеграла:\n",
    "$$\n",
    "\\int\\limits_{-2}^{2}\\frac{1}{\\sqrt{2\\pi}}e^{\\frac{-x^2}{2}}dx=\\\\=\n",
    "4\\int\\limits_{-2}^2\\frac{1}{\\sqrt{2\\pi}}e^{\\frac{-x^2}{2}}\\frac{1}{4}dx\n",
    "$$"
   ]
  },
  {
   "cell_type": "code",
   "execution_count": 199,
   "id": "c95d8970",
   "metadata": {},
   "outputs": [
    {
     "data": {
      "image/png": "[encoded data removed]",
      "text/plain": [
       "<Figure size 432x288 with 1 Axes>"
      ]
     },
     "metadata": {
      "needs_background": "light"
     },
     "output_type": "display_data"
    }
   ],
   "source": [
    "x = np.linspace(-5,5,1000)\n",
    "y = np.exp(-pow(x,2)/2)/np.sqrt(2*np.pi)\n",
    "\n",
    "fig, ax = plt.subplots()\n",
    "\n",
    "ax.plot(x, y, linewidth=2.0)\n",
    "\n",
    "ax.fill_between(x,y,0, where = ((x>-2)&(x < 2)), color = '#AFEEEE')\n",
    "\n",
    "ax.set(xlim=(-3, 3), xticks=np.arange(-4, 5),\n",
    "       ylim=(0, 0.6), yticks=[0,0.1,0.2,0.3,0.4,0.5,0.6])\n",
    "\n",
    "\n",
    "plt.show()"
   ]
  },
  {
   "cell_type": "code",
   "execution_count": 150,
   "id": "881d3911",
   "metadata": {},
   "outputs": [
    {
     "data": {
      "text/plain": [
       "0.922248075326478"
      ]
     },
     "execution_count": 150,
     "metadata": {},
     "output_type": "execute_result"
    }
   ],
   "source": [
    "n = 100\n",
    "sum_func = 0\n",
    "for i in range(n):\n",
    "    num = random.uniform(-2,2)\n",
    "    sum_func += np.exp(-pow(num,2)/2)/np.sqrt(2*np.pi)\n",
    "Integral = 4*sum_func/n\n",
    "Integral"
   ]
  },
  {
   "cell_type": "code",
   "execution_count": 151,
   "id": "2b373265",
   "metadata": {},
   "outputs": [
    {
     "data": {
      "text/plain": [
       "0.9490104012905939"
      ]
     },
     "execution_count": 151,
     "metadata": {},
     "output_type": "execute_result"
    }
   ],
   "source": [
    "n = 10000\n",
    "sum_func = 0\n",
    "for i in range(n):\n",
    "    num = random.uniform(-2,2)\n",
    "    sum_func += np.exp(-pow(num,2)/2)/np.sqrt(2*np.pi)\n",
    "Integral = 4*sum_func/n\n",
    "Integral"
   ]
  },
  {
   "cell_type": "code",
   "execution_count": 154,
   "id": "d0866744",
   "metadata": {},
   "outputs": [
    {
     "data": {
      "text/plain": [
       "0.9545308249113165"
      ]
     },
     "execution_count": 154,
     "metadata": {},
     "output_type": "execute_result"
    }
   ],
   "source": [
    "n = 100000000\n",
    "sum_func = 0\n",
    "for i in range(n):\n",
    "    num = random.uniform(-2,2)\n",
    "    sum_func += np.exp(-pow(num,2)/2)/np.sqrt(2*np.pi)\n",
    "Integral = 4*sum_func/n\n",
    "Integral"
   ]
  },
  {
   "cell_type": "markdown",
   "id": "3fb0ba5c",
   "metadata": {},
   "source": [
    "Допустим, мы хотим посчитать вероятность того, что случайная величина, имеющее нормальное распределение с мат. ожиданием 3 и дисперсией 4 примет значения меньше либо равные 1, т.е. посчитать\n",
    "$$\n",
    "\\int\\limits_{-\\infty}^{1}\\frac{1}{2\\sqrt{2\\pi}}e^{\\frac{-(x-3)^2}{8}}dx\n",
    "$$\n",
    "Согласно правилу трех сигм примерно $99.7$ процентов возможных значений лежат в пределах трех стандартных отклонений от среднего, т.е., в данном случае, внутри отрезка $[3-3\\cdot2,3+3\\cdot2] = [-3,9]$. Поэтому интеграл будем с нижним пределом не $-\\infty,$ а $-9,$ что еще на три стандартных отклонения меньше в отрицательную сторону по оси абсцисс.\n",
    "$$\n",
    "10\\int\\limits_{-9}^{1}\\frac{1}{2\\sqrt{2\\pi}}e^{\\frac{-(x-3)^2}{8}}\\frac{1}{10}dx\n",
    "$$\n"
   ]
  },
  {
   "cell_type": "code",
   "execution_count": 221,
   "id": "c760f47f",
   "metadata": {},
   "outputs": [
    {
     "data": {
      "image/png": "[encoded data removed]",
      "text/plain": [
       "<Figure size 432x288 with 1 Axes>"
      ]
     },
     "metadata": {
      "needs_background": "light"
     },
     "output_type": "display_data"
    }
   ],
   "source": [
    "x = np.linspace(-10,10,1000)\n",
    "y = np.exp(-pow(x-3,2)/8)/np.sqrt(8*np.pi)\n",
    "\n",
    "fig, ax = plt.subplots()\n",
    "\n",
    "ax.plot(x, y, linewidth=2.0)\n",
    "\n",
    "ax.fill_between(x,y,0, where = (x < 1), color = '#AFEEEE')\n",
    "\n",
    "ax.set(xlim=(-3, 9), xticks=np.arange(-3, 10),\n",
    "       ylim=(0, 0.3), yticks=[0,0.1,0.2,0.3])\n",
    "\n",
    "\n",
    "plt.show()"
   ]
  },
  {
   "cell_type": "markdown",
   "id": "77e02577",
   "metadata": {},
   "source": [
    "Сразу найдем точное приближение: возьмем $n = 10^7$"
   ]
  },
  {
   "cell_type": "code",
   "execution_count": 224,
   "id": "136ddb88",
   "metadata": {},
   "outputs": [
    {
     "data": {
      "text/plain": [
       "0.15867016873312687"
      ]
     },
     "execution_count": 224,
     "metadata": {},
     "output_type": "execute_result"
    }
   ],
   "source": [
    "n = 10000000\n",
    "sum_func = 0\n",
    "for i in range(n):\n",
    "    num = random.uniform(-9,1)\n",
    "    sum_func += np.exp(-pow(num - 3,2)/8)/(2*np.sqrt(2*np.pi))\n",
    "Integral = 10 * sum_func/n\n",
    "Integral"
   ]
  },
  {
   "cell_type": "markdown",
   "id": "bc25c316",
   "metadata": {},
   "source": [
    "Если стандартизировать данную случайную величину (обозначим ее за $X$), то \n",
    "$$\n",
    "X\\sim\\mathcal{N}(3,4)\\Rightarrow\\\\\n",
    "\\frac{X-3}{2} = N\\sim\\mathcal{N}(0,1)\n",
    "$$\n",
    "т.е. необходимо посчитать следующую вероятность:\n",
    "$$\n",
    "\\Pr(N\\leqslant -1)\n",
    "$$\n",
    "Согласно табличке нормального распределения данная вероятность примерно равна $1-0.8413 = 0.1587.$ Так что полученный выше результат является довольно точным."
   ]
  },
  {
   "cell_type": "code",
   "execution_count": null,
   "id": "b52e15cd",
   "metadata": {},
   "outputs": [],
   "source": []
  }
 ],
 "metadata": {
  "kernelspec": {
   "display_name": "Python 3 (ipykernel)",
   "language": "python",
   "name": "python3"
  },
  "language_info": {
   "codemirror_mode": {
    "name": "ipython",
    "version": 3
   },
   "file_extension": ".py",
   "mimetype": "text/x-python",
   "name": "python",
   "nbconvert_exporter": "python",
   "pygments_lexer": "ipython3",
   "version": "3.9.7"
  }
 },
 "nbformat": 4,
 "nbformat_minor": 5
}
